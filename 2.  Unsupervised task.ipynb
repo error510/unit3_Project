{
 "cells": [
  {
   "cell_type": "markdown",
   "id": "4770b9d0",
   "metadata": {},
   "source": [
    "<img src=\"Logo.png\" width=\"100\" align=\"left\"/> \n",
    "\n",
    "# <center> Unit 3 Project </center>\n",
    "#  <center> Second section : Unsupervised task </center>\n",
    "\n",
    "\n",
    "In this notebook you will be building and training an unsupervised learning model to cluster your data. \n"
   ]
  },
  {
   "cell_type": "markdown",
   "id": "92f59c31",
   "metadata": {},
   "source": [
    "For this task we will be using another clustering method called \"Agglomerative Clustering\" For this task : \n",
    "It's a hierarchical clustering method. The main idea is to merge examples until the desired number of clusters is achieved. \n",
    " \n",
    " Steps for this task: \n",
    " 1. Load the already clean dataset \n",
    " 2. Take into consideration that in this task we will not be using the target variable \"Category\" as we are trying to cluster the data. \n",
    " \n",
    " 3. Cluster numbers should be equal to the number of categories we have \n",
    " 4. We will add those clusters numbers as a feature (column in our dataset) \n",
    " 5. Build your model using the SKlearn AgglomerativeClustering class \n",
    " 6. Cluster your data and that as a column to your dataset\n",
    " 5. Save the new dataset with the additional column as \"clustered_HepatitisC.csv\" \n"
   ]
  },
  {
   "cell_type": "markdown",
   "id": "d985d311",
   "metadata": {},
   "source": [
    "## 1. Loading the data \n",
    "1. Load the clean data \n",
    "2. Keep only the needed **Columns**"
   ]
  },
  {
   "cell_type": "code",
   "execution_count": 87,
   "id": "69469031",
   "metadata": {},
   "outputs": [],
   "source": [
    "import pandas as pd \n",
    "from sklearn.cluster import AgglomerativeClustering"
   ]
  },
  {
   "cell_type": "code",
   "execution_count": 88,
   "id": "f4004a85",
   "metadata": {},
   "outputs": [],
   "source": [
    "# Load the dataset \n",
    "df = pd.read_csv(\"clean_HepatitisC.csv\")"
   ]
  },
  {
   "cell_type": "code",
   "execution_count": 89,
   "id": "94320e18",
   "metadata": {},
   "outputs": [
    {
     "data": {
      "text/html": [
       "<div>\n",
       "<style scoped>\n",
       "    .dataframe tbody tr th:only-of-type {\n",
       "        vertical-align: middle;\n",
       "    }\n",
       "\n",
       "    .dataframe tbody tr th {\n",
       "        vertical-align: top;\n",
       "    }\n",
       "\n",
       "    .dataframe thead th {\n",
       "        text-align: right;\n",
       "    }\n",
       "</style>\n",
       "<table border=\"1\" class=\"dataframe\">\n",
       "  <thead>\n",
       "    <tr style=\"text-align: right;\">\n",
       "      <th></th>\n",
       "      <th>ID</th>\n",
       "      <th>Category</th>\n",
       "      <th>Age</th>\n",
       "      <th>Sex</th>\n",
       "      <th>ALB</th>\n",
       "      <th>ALP</th>\n",
       "      <th>ALT</th>\n",
       "      <th>AST</th>\n",
       "      <th>BIL</th>\n",
       "      <th>CHE</th>\n",
       "      <th>CHOL</th>\n",
       "      <th>CREA</th>\n",
       "      <th>GGT</th>\n",
       "      <th>PROT</th>\n",
       "      <th>cluster</th>\n",
       "    </tr>\n",
       "  </thead>\n",
       "  <tbody>\n",
       "    <tr>\n",
       "      <th>0</th>\n",
       "      <td>1</td>\n",
       "      <td>0</td>\n",
       "      <td>32</td>\n",
       "      <td>0</td>\n",
       "      <td>38.5</td>\n",
       "      <td>52.5</td>\n",
       "      <td>7.7</td>\n",
       "      <td>22.1</td>\n",
       "      <td>7.5</td>\n",
       "      <td>6.93</td>\n",
       "      <td>3.23</td>\n",
       "      <td>106.0</td>\n",
       "      <td>12.1</td>\n",
       "      <td>69.0</td>\n",
       "      <td>3</td>\n",
       "    </tr>\n",
       "    <tr>\n",
       "      <th>1</th>\n",
       "      <td>2</td>\n",
       "      <td>0</td>\n",
       "      <td>32</td>\n",
       "      <td>0</td>\n",
       "      <td>38.5</td>\n",
       "      <td>70.3</td>\n",
       "      <td>18.0</td>\n",
       "      <td>24.7</td>\n",
       "      <td>3.9</td>\n",
       "      <td>11.17</td>\n",
       "      <td>4.80</td>\n",
       "      <td>74.0</td>\n",
       "      <td>15.6</td>\n",
       "      <td>76.5</td>\n",
       "      <td>3</td>\n",
       "    </tr>\n",
       "    <tr>\n",
       "      <th>2</th>\n",
       "      <td>3</td>\n",
       "      <td>0</td>\n",
       "      <td>32</td>\n",
       "      <td>0</td>\n",
       "      <td>46.9</td>\n",
       "      <td>74.7</td>\n",
       "      <td>36.2</td>\n",
       "      <td>52.6</td>\n",
       "      <td>6.1</td>\n",
       "      <td>8.84</td>\n",
       "      <td>5.20</td>\n",
       "      <td>86.0</td>\n",
       "      <td>33.2</td>\n",
       "      <td>79.3</td>\n",
       "      <td>3</td>\n",
       "    </tr>\n",
       "    <tr>\n",
       "      <th>3</th>\n",
       "      <td>4</td>\n",
       "      <td>0</td>\n",
       "      <td>32</td>\n",
       "      <td>0</td>\n",
       "      <td>43.2</td>\n",
       "      <td>52.0</td>\n",
       "      <td>30.6</td>\n",
       "      <td>22.6</td>\n",
       "      <td>18.9</td>\n",
       "      <td>7.33</td>\n",
       "      <td>4.74</td>\n",
       "      <td>80.0</td>\n",
       "      <td>33.8</td>\n",
       "      <td>75.7</td>\n",
       "      <td>3</td>\n",
       "    </tr>\n",
       "    <tr>\n",
       "      <th>4</th>\n",
       "      <td>5</td>\n",
       "      <td>0</td>\n",
       "      <td>32</td>\n",
       "      <td>0</td>\n",
       "      <td>39.2</td>\n",
       "      <td>74.1</td>\n",
       "      <td>32.6</td>\n",
       "      <td>24.8</td>\n",
       "      <td>9.6</td>\n",
       "      <td>9.15</td>\n",
       "      <td>4.32</td>\n",
       "      <td>76.0</td>\n",
       "      <td>29.9</td>\n",
       "      <td>68.7</td>\n",
       "      <td>3</td>\n",
       "    </tr>\n",
       "  </tbody>\n",
       "</table>\n",
       "</div>"
      ],
      "text/plain": [
       "   ID  Category  Age  Sex   ALB   ALP   ALT   AST   BIL    CHE  CHOL   CREA  \\\n",
       "0   1         0   32    0  38.5  52.5   7.7  22.1   7.5   6.93  3.23  106.0   \n",
       "1   2         0   32    0  38.5  70.3  18.0  24.7   3.9  11.17  4.80   74.0   \n",
       "2   3         0   32    0  46.9  74.7  36.2  52.6   6.1   8.84  5.20   86.0   \n",
       "3   4         0   32    0  43.2  52.0  30.6  22.6  18.9   7.33  4.74   80.0   \n",
       "4   5         0   32    0  39.2  74.1  32.6  24.8   9.6   9.15  4.32   76.0   \n",
       "\n",
       "    GGT  PROT  cluster  \n",
       "0  12.1  69.0        3  \n",
       "1  15.6  76.5        3  \n",
       "2  33.2  79.3        3  \n",
       "3  33.8  75.7        3  \n",
       "4  29.9  68.7        3  "
      ]
     },
     "execution_count": 89,
     "metadata": {},
     "output_type": "execute_result"
    }
   ],
   "source": [
    "df.head()"
   ]
  },
  {
   "cell_type": "code",
   "execution_count": 90,
   "id": "849fd64a",
   "metadata": {},
   "outputs": [],
   "source": [
    "y_true = df['Category']\n",
    "range_ =  df['ID']"
   ]
  },
  {
   "cell_type": "code",
   "execution_count": 91,
   "id": "47335020",
   "metadata": {},
   "outputs": [
    {
     "name": "stdout",
     "output_type": "stream",
     "text": [
      "['Age', 'Sex', 'ALB', 'ALP', 'ALT', 'AST', 'BIL', 'CHE', 'CHOL', 'CREA', 'GGT', 'PROT', 'cluster']\n"
     ]
    }
   ],
   "source": [
    "# To-Do : We will select only the columns to work with = all columns except the id and the Category \n",
    "df1 = df.drop(columns=[\"ID\",\"Category\"],inplace=False)\n",
    "print(list(df1.columns))"
   ]
  },
  {
   "cell_type": "markdown",
   "id": "04fd08a2",
   "metadata": {},
   "source": [
    "## 2. Build the clusting model and cluster the data \n",
    "1. Build the model \n",
    "2. Fit the model to the data \n",
    "3. Cluster all data points and add that as a column"
   ]
  },
  {
   "cell_type": "code",
   "execution_count": 92,
   "id": "42acfe5f",
   "metadata": {},
   "outputs": [],
   "source": [
    "# To-Do: set the number of clusters to be equal to the number of classes (categories)\n",
    "n_clusters = 4"
   ]
  },
  {
   "cell_type": "code",
   "execution_count": 93,
   "id": "e8ed9f57",
   "metadata": {},
   "outputs": [],
   "source": [
    "# define the model\n",
    "model = AgglomerativeClustering(n_clusters=n_clusters)"
   ]
  },
  {
   "cell_type": "code",
   "execution_count": 94,
   "id": "99af4de2",
   "metadata": {},
   "outputs": [],
   "source": [
    "#To-Do : fit model and predict clusters\n",
    "yhat = model.fit_predict(df1)"
   ]
  },
  {
   "cell_type": "code",
   "execution_count": 95,
   "id": "f22d0ffc",
   "metadata": {},
   "outputs": [],
   "source": [
    "# To-Do :Add the cluster as a column to the data frame \n",
    "df['cluster'] = yhat"
   ]
  },
  {
   "cell_type": "code",
   "execution_count": 98,
   "id": "afb8738f",
   "metadata": {},
   "outputs": [
    {
     "name": "stdout",
     "output_type": "stream",
     "text": [
      "93 3 8 511\n",
      "533 7 24 21\n"
     ]
    }
   ],
   "source": [
    "#clusters sizer are close \n",
    "print((yhat==0).sum(),(yhat==1).sum(),(yhat==2).sum(),(yhat==3).sum())\n",
    "print((y_true==0).sum(),(y_true==1).sum(),(y_true==2).sum(),(y_true==3).sum())\n"
   ]
  },
  {
   "cell_type": "code",
   "execution_count": 106,
   "id": "16664567",
   "metadata": {},
   "outputs": [
    {
     "data": {
      "image/png": "[encoded data removed]",
      "text/plain": [
       "<Figure size 1440x1440 with 1 Axes>"
      ]
     },
     "metadata": {
      "needs_background": "light"
     },
     "output_type": "display_data"
    }
   ],
   "source": [
    "import matplotlib.pyplot as plt\n",
    "plt.figure(figsize = 1020,10))\n",
    "plt.bar(range_,y_true)\n",
    "plt.show()"
   ]
  },
  {
   "cell_type": "markdown",
   "id": "2344ab64",
   "metadata": {},
   "source": [
    "## 3. Save the new dataset with the additional column "
   ]
  },
  {
   "cell_type": "code",
   "execution_count": 81,
   "id": "47bee1c0",
   "metadata": {},
   "outputs": [],
   "source": [
    "# To-Do save the file , Do not forget to drop the index \n",
    "df.to_csv('clean_HepatitisC.csv', index=False)"
   ]
  }
 ],
 "metadata": {
  "kernelspec": {
   "display_name": "Python 3 (ipykernel)",
   "language": "python",
   "name": "python3"
  },
  "language_info": {
   "codemirror_mode": {
    "name": "ipython",
    "version": 3
   },
   "file_extension": ".py",
   "mimetype": "text/x-python",
   "name": "python",
   "nbconvert_exporter": "python",
   "pygments_lexer": "ipython3",
   "version": "3.9.12"
  }
 },
 "nbformat": 4,
 "nbformat_minor": 5
}
