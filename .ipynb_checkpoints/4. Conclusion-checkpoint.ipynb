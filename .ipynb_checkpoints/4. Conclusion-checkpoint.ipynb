{
 "cells": [
  {
   "cell_type": "markdown",
   "id": "3c5220cd",
   "metadata": {},
   "source": [
    "<img src=\"Logo.png\" width=\"100\" align=\"left\"/> \n",
    "\n",
    "# <center> Unit 3 Project </center>\n",
    "#  <center> Fourth section : Conclusion </center>\n",
    "\n",
    "\n",
    "In this notebook you will be comparing the results of the two methods we used on the created testset. That is said: you will compare the results to the clustering with the results of the classification on the same test test and provide insights and explanation about the observed behaviour."
   ]
  },
  {
   "cell_type": "markdown",
   "id": "d7999942",
   "metadata": {},
   "source": [
    "For this final task you will need to : \n",
    "1. Load the testset data that you created all along this project \n",
    "2. For each cluster provide percentages about each actual/ predicted class contained with this cluster. Eg : cluster N°2 : is made of ( 50% class 2 and 50% class 3 ) from actual labels and ( 40 % predicted class 2 and 40% predicted class 3 + 20% predicted class 1) \n",
    "The above is just an example and is far away from the actual situation.\n",
    "\n",
    "3. Explain the behaviour and provide isights about it "
   ]
  },
  {
   "cell_type": "markdown",
   "id": "5ce7ef74",
   "metadata": {},
   "source": [
    "## 1.  Load the data: "
   ]
  },
  {
   "cell_type": "code",
   "execution_count": 2,
   "id": "db5d912f",
   "metadata": {},
   "outputs": [],
   "source": [
    "import pandas as pd "
   ]
  },
  {
   "cell_type": "code",
   "execution_count": 3,
   "id": "20df3761",
   "metadata": {},
   "outputs": [],
   "source": [
    "# To-Do : load the test summary data \n",
    "df = pd.read_csv(\"test_summary.csv\")"
   ]
  },
  {
   "cell_type": "code",
   "execution_count": 4,
   "id": "e0f7e8e4",
   "metadata": {},
   "outputs": [
    {
     "data": {
      "text/html": [
       "<div>\n",
       "<style scoped>\n",
       "    .dataframe tbody tr th:only-of-type {\n",
       "        vertical-align: middle;\n",
       "    }\n",
       "\n",
       "    .dataframe tbody tr th {\n",
       "        vertical-align: top;\n",
       "    }\n",
       "\n",
       "    .dataframe thead th {\n",
       "        text-align: right;\n",
       "    }\n",
       "</style>\n",
       "<table border=\"1\" class=\"dataframe\">\n",
       "  <thead>\n",
       "    <tr style=\"text-align: right;\">\n",
       "      <th></th>\n",
       "      <th>ID</th>\n",
       "      <th>Age</th>\n",
       "      <th>Sex</th>\n",
       "      <th>ALB</th>\n",
       "      <th>ALP</th>\n",
       "      <th>ALT</th>\n",
       "      <th>AST</th>\n",
       "      <th>BIL</th>\n",
       "      <th>CHE</th>\n",
       "      <th>CHOL</th>\n",
       "      <th>CREA</th>\n",
       "      <th>GGT</th>\n",
       "      <th>PROT</th>\n",
       "      <th>cluster</th>\n",
       "      <th>Category</th>\n",
       "      <th>Predicted_class</th>\n",
       "    </tr>\n",
       "  </thead>\n",
       "  <tbody>\n",
       "    <tr>\n",
       "      <th>0</th>\n",
       "      <td>19</td>\n",
       "      <td>33</td>\n",
       "      <td>0</td>\n",
       "      <td>36.6</td>\n",
       "      <td>57.1</td>\n",
       "      <td>38.9</td>\n",
       "      <td>40.3</td>\n",
       "      <td>24.9</td>\n",
       "      <td>9.62</td>\n",
       "      <td>5.50</td>\n",
       "      <td>112.0</td>\n",
       "      <td>27.6</td>\n",
       "      <td>69.3</td>\n",
       "      <td>3</td>\n",
       "      <td>0</td>\n",
       "      <td>0</td>\n",
       "    </tr>\n",
       "    <tr>\n",
       "      <th>1</th>\n",
       "      <td>176</td>\n",
       "      <td>48</td>\n",
       "      <td>0</td>\n",
       "      <td>46.2</td>\n",
       "      <td>59.9</td>\n",
       "      <td>14.6</td>\n",
       "      <td>25.7</td>\n",
       "      <td>5.3</td>\n",
       "      <td>6.93</td>\n",
       "      <td>6.29</td>\n",
       "      <td>66.0</td>\n",
       "      <td>23.4</td>\n",
       "      <td>75.8</td>\n",
       "      <td>3</td>\n",
       "      <td>0</td>\n",
       "      <td>0</td>\n",
       "    </tr>\n",
       "    <tr>\n",
       "      <th>2</th>\n",
       "      <td>288</td>\n",
       "      <td>62</td>\n",
       "      <td>0</td>\n",
       "      <td>46.6</td>\n",
       "      <td>98.0</td>\n",
       "      <td>36.7</td>\n",
       "      <td>29.4</td>\n",
       "      <td>7.0</td>\n",
       "      <td>7.56</td>\n",
       "      <td>5.52</td>\n",
       "      <td>70.0</td>\n",
       "      <td>23.1</td>\n",
       "      <td>86.5</td>\n",
       "      <td>3</td>\n",
       "      <td>0</td>\n",
       "      <td>0</td>\n",
       "    </tr>\n",
       "    <tr>\n",
       "      <th>3</th>\n",
       "      <td>410</td>\n",
       "      <td>46</td>\n",
       "      <td>1</td>\n",
       "      <td>39.9</td>\n",
       "      <td>71.3</td>\n",
       "      <td>15.4</td>\n",
       "      <td>29.5</td>\n",
       "      <td>4.6</td>\n",
       "      <td>5.95</td>\n",
       "      <td>6.94</td>\n",
       "      <td>72.0</td>\n",
       "      <td>13.4</td>\n",
       "      <td>69.5</td>\n",
       "      <td>3</td>\n",
       "      <td>0</td>\n",
       "      <td>0</td>\n",
       "    </tr>\n",
       "    <tr>\n",
       "      <th>4</th>\n",
       "      <td>303</td>\n",
       "      <td>65</td>\n",
       "      <td>0</td>\n",
       "      <td>43.6</td>\n",
       "      <td>104.0</td>\n",
       "      <td>32.3</td>\n",
       "      <td>34.2</td>\n",
       "      <td>7.7</td>\n",
       "      <td>8.23</td>\n",
       "      <td>4.69</td>\n",
       "      <td>89.0</td>\n",
       "      <td>20.8</td>\n",
       "      <td>75.5</td>\n",
       "      <td>3</td>\n",
       "      <td>0</td>\n",
       "      <td>0</td>\n",
       "    </tr>\n",
       "  </tbody>\n",
       "</table>\n",
       "</div>"
      ],
      "text/plain": [
       "    ID  Age  Sex   ALB    ALP   ALT   AST   BIL   CHE  CHOL   CREA   GGT  \\\n",
       "0   19   33    0  36.6   57.1  38.9  40.3  24.9  9.62  5.50  112.0  27.6   \n",
       "1  176   48    0  46.2   59.9  14.6  25.7   5.3  6.93  6.29   66.0  23.4   \n",
       "2  288   62    0  46.6   98.0  36.7  29.4   7.0  7.56  5.52   70.0  23.1   \n",
       "3  410   46    1  39.9   71.3  15.4  29.5   4.6  5.95  6.94   72.0  13.4   \n",
       "4  303   65    0  43.6  104.0  32.3  34.2   7.7  8.23  4.69   89.0  20.8   \n",
       "\n",
       "   PROT  cluster  Category  Predicted_class  \n",
       "0  69.3        3         0                0  \n",
       "1  75.8        3         0                0  \n",
       "2  86.5        3         0                0  \n",
       "3  69.5        3         0                0  \n",
       "4  75.5        3         0                0  "
      ]
     },
     "execution_count": 4,
     "metadata": {},
     "output_type": "execute_result"
    }
   ],
   "source": [
    "df.head()"
   ]
  },
  {
   "cell_type": "markdown",
   "id": "5a876830",
   "metadata": {},
   "source": [
    "## 2. Analysis: "
   ]
  },
  {
   "cell_type": "code",
   "execution_count": 5,
   "id": "99732f39",
   "metadata": {},
   "outputs": [
    {
     "name": "stdout",
     "output_type": "stream",
     "text": [
      "true : 84.5528  predected : 84.5528 \n",
      "true : 3.2520  predected : 2.4390 \n",
      "true : 3.2520  predected : 3.2520 \n",
      "true : 2.4390  predected : 3.2520 \n",
      "true : 6.5041  predected : 5.6911 \n"
     ]
    }
   ],
   "source": [
    "# To-Do create a summary about each cluster : \n",
    "# percentages of each target (actual Category) within each cluster \n",
    "# + Percentages of each predicted class within the cluster \n",
    "# results should be something like : \n",
    "# For clusterk : {'true_class0_percetage': 0.0,\n",
    "#                 'true_class1_percetage': 0.0,\n",
    "#                  'true_class2_percetage': 0.0,\n",
    "#                   'true_class3_percetage': 0.0,\n",
    "#                   'true_class4_percetage': 0.0,\n",
    "#                   'predicted_class0_percetage': 0.0,\n",
    "#                   'predicted_class1_percetage': 0.0,\n",
    "#                   'predicted_class2_percetage': 0.0,\n",
    "#                   'predicted_class3_percetage': 0.0,\n",
    "#                    'predicted_class4_percetage': 0.0}\n",
    "\n",
    "\n",
    "true_class0_percetage =(df[\"Category\"] == 0 ).sum()*100/df.shape[0]\n",
    "true_class1_percetage =(df[\"Category\"] == 1 ).sum()*100/df.shape[0]\n",
    "true_class2_percetage =(df[\"Category\"] == 1 ).sum()*100/df.shape[0]\n",
    "true_class3_percetage =(df[\"Category\"] == 3 ).sum()*100/df.shape[0]\n",
    "true_class4_percetage =(df[\"Category\"] == 4 ).sum()*100/df.shape[0]\n",
    "predicted_class0_percetage =(df[\"Category\"] == 0 ).sum()*100/df.shape[0]\n",
    "predicted_class1_percetage =(df[\"Predicted_class\"] == 1 ).sum()*100/df.shape[0]\n",
    "predicted_class2_percetage =(df[\"Predicted_class\"] == 2 ).sum()*100/df.shape[0]\n",
    "predicted_class3_percetage =(df[\"Predicted_class\"] == 3 ).sum()*100/df.shape[0]\n",
    "predicted_class4_percetage =(df[\"Predicted_class\"] == 4 ).sum()*100/df.shape[0]\n",
    " \n",
    "print(\"true : %.4f  predected : %.4f \" %(true_class0_percetage,predicted_class0_percetage))\n",
    "print(\"true : %.4f  predected : %.4f \" %(true_class1_percetage,predicted_class1_percetage))\n",
    "print(\"true : %.4f  predected : %.4f \" %(true_class2_percetage,predicted_class2_percetage))\n",
    "print(\"true : %.4f  predected : %.4f \" %(true_class3_percetage,predicted_class3_percetage))\n",
    "print(\"true : %.4f  predected : %.4f \" %(true_class4_percetage,predicted_class4_percetage))\n",
    "    "
   ]
  },
  {
   "cell_type": "markdown",
   "id": "65b6139d",
   "metadata": {},
   "source": [
    "## 3. Explanations and isights :"
   ]
  },
  {
   "cell_type": "code",
   "execution_count": 92,
   "id": "cecd4211",
   "metadata": {},
   "outputs": [
    {
     "data": {
      "image/png": "[encoded data removed]",
      "text/plain": [
       "<Figure size 720x648 with 2 Axes>"
      ]
     },
     "metadata": {
      "needs_background": "light"
     },
     "output_type": "display_data"
    }
   ],
   "source": [
    "# in this section you should display analysis about each cluster and comment those one by one\n",
    "from sklearn.metrics import confusion_matrix as cm\n",
    "import seaborn as sns\n",
    "import numpy as np\n",
    "import matplotlib.pyplot as plt\n",
    "\n",
    "\n",
    "Cm = cm(df[\"Category\"],df[\"Predicted_class\"])\n",
    "plt.figure(figsize=(10, 9))\n",
    "map = sns.heatmap(Cm/np.sum(Cm),  cmap='RdPu' ,annot=True , fmt='.2%')\n",
    "map.xaxis.set_ticklabels(['Blood Donor','Suspect Blood Donor', 'Hepatitis', 'Fibrosis', 'Cirrhosis'])\n",
    "map.yaxis.set_ticklabels(['Blood Donor','Suspect Blood Donor', 'Hepatitis', 'Fibrosis', 'Cirrhosis'])\n",
    "map.set_xlabel('\\nPredicted Category')\n",
    "map.set_ylabel('Actual Category ');\n",
    "plt.show()"
   ]
  },
  {
   "cell_type": "markdown",
   "id": "c248cbad",
   "metadata": {},
   "source": [
    "## 4. Conclusion:\n",
    "\n",
    "Explain your findings and provide reasons for the behaviour."
   ]
  },
  {
   "cell_type": "code",
   "execution_count": null,
   "id": "d19df8e9",
   "metadata": {},
   "outputs": [],
   "source": [
    "#we notice that the first classe TP = 82.11% and FN = 2.44% and FP = 3.25% and TN = 12.19 \n",
    "#while other classes TP are low compared to the first class and TN is higher \n",
    "#mainly because the training sat (and the data set in general) has more samples of the first class than the others \n",
    "#and this will make the model function poorly whren it comes to other classes predection \n",
    "#for ex the TR of the Fibrosis class is .81% while FN = 1.62% , FP = 2.44% and TN = 95.12%..."
   ]
  }
 ],
 "metadata": {
  "kernelspec": {
   "display_name": "Python 3 (ipykernel)",
   "language": "python",
   "name": "python3"
  },
  "language_info": {
   "codemirror_mode": {
    "name": "ipython",
    "version": 3
   },
   "file_extension": ".py",
   "mimetype": "text/x-python",
   "name": "python",
   "nbconvert_exporter": "python",
   "pygments_lexer": "ipython3",
   "version": "3.9.12"
  }
 },
 "nbformat": 4,
 "nbformat_minor": 5
}
