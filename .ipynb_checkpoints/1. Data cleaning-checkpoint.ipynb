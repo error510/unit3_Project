{
 "cells": [
  {
   "cell_type": "markdown",
   "id": "b5349838",
   "metadata": {},
   "source": [
    "<img src=\"Logo.png\" width=\"100\" align=\"left\"/> \n",
    "\n",
    "# <center> Unit 3 Project </center>\n",
    "#  <center> First section : Data cleaning  </center>\n",
    "\n",
    "In this notebook you will be cleaning your dataset and making sure it's fully ready for modeling.\n",
    "\n",
    "The used dataset is [Hepatitis C  dataset](https://www.kaggle.com/fedesoriano/hepatitis-c-dataset)"
   ]
  },
  {
   "cell_type": "markdown",
   "id": "c3a880ce",
   "metadata": {},
   "source": [
    "## Data preparation \n",
    "As a first step we need to prepare the data :\n",
    "\n",
    "1. Read the data set as a data frame ( file name is HepatitisCdata.csv) \n",
    "2. The here are the column of your dataset:\n",
    "    1) X (Patient ID/No.)\n",
    "    2) Category (diagnosis) (values: '0=Blood Donor', '0s=suspect Blood Donor', '1=Hepatitis', '2=Fibrosis', '3=Cirrhosis') ( the target ) \n",
    "    3) Age (in years)\n",
    "    4) Sex (f,m)\n",
    "    Attributes 5 to 14 refer to laboratory data:\n",
    "    5) ALB : Albumin Blood Test\n",
    "    6) ALP : Alkaline phosphatase\n",
    "    7) ALT : Alanine Transaminase\n",
    "    8) AST : Aspartate Transaminase\n",
    "    9) BIL : Bilirubin\n",
    "    10) CHE : Acetylcholinesterase\n",
    "    11) CHOL : Cholesterol\n",
    "    12) CREA : Creatinine \n",
    "    13) GGT : Gamma-Glutamyl Transferase\n",
    "    14) PROT : Proteins\n",
    "    \n",
    "3. Remember your model only accepts numbers so make sure you deal properly with the missing values and the data types and justify your solution choices \n",
    " \n",
    "4. Make sure the dataset shape in the end is : rows 615 and  14 columns \n",
    " \n",
    "5. Once finished save the cleaned dataset as \"clean_HepatitisC.csv\" file \n",
    " "
   ]
  },
  {
   "cell_type": "code",
   "execution_count": 34,
   "id": "7ef3a82c",
   "metadata": {},
   "outputs": [],
   "source": [
    "import pandas as pd \n",
    "import numpy as np "
   ]
  },
  {
   "cell_type": "code",
   "execution_count": 35,
   "id": "b75c3ac8",
   "metadata": {},
   "outputs": [],
   "source": [
    "#To-Do: read the dataset \n",
    "data = pd.read_csv(\"./HepatitisCdata.csv\")"
   ]
  },
  {
   "cell_type": "code",
   "execution_count": 36,
   "id": "690a3bdc",
   "metadata": {
    "scrolled": true
   },
   "outputs": [
    {
     "name": "stdout",
     "output_type": "stream",
     "text": [
      "<class 'pandas.core.frame.DataFrame'>\n",
      "RangeIndex: 615 entries, 0 to 614\n",
      "Data columns (total 14 columns):\n",
      " #   Column      Non-Null Count  Dtype  \n",
      "---  ------      --------------  -----  \n",
      " 0   Unnamed: 0  615 non-null    int64  \n",
      " 1   Category    615 non-null    object \n",
      " 2   Age         615 non-null    int64  \n",
      " 3   Sex         615 non-null    object \n",
      " 4   ALB         614 non-null    float64\n",
      " 5   ALP         597 non-null    float64\n",
      " 6   ALT         614 non-null    float64\n",
      " 7   AST         615 non-null    float64\n",
      " 8   BIL         615 non-null    float64\n",
      " 9   CHE         615 non-null    float64\n",
      " 10  CHOL        605 non-null    float64\n",
      " 11  CREA        615 non-null    float64\n",
      " 12  GGT         615 non-null    float64\n",
      " 13  PROT        614 non-null    float64\n",
      "dtypes: float64(10), int64(2), object(2)\n",
      "memory usage: 67.4+ KB\n"
     ]
    }
   ],
   "source": [
    "data.info()"
   ]
  },
  {
   "cell_type": "code",
   "execution_count": 37,
   "id": "6bf82e12",
   "metadata": {},
   "outputs": [],
   "source": [
    "#To-Do  Start investigating the data types and correcting that \n",
    "# Provide explanation about each step in Markdown cells \n",
    "from sklearn.preprocessing import LabelEncoder\n",
    "\n",
    "# transfering the sex data into integers ( male = 0  and female = 1 )  \n",
    "data[\"Sex\"] =pd.get_dummies(data[\"Sex\"])[\"f\"]\n",
    "# '0=Blood Donor', '1=suspect Blood Donor', '2=Hepatitis', '3=Fibrosis', '4=Cirrhosis'\n",
    "data[\"Category\"] = LabelEncoder().fit_transform(data[\"Category\"])\n"
   ]
  },
  {
   "cell_type": "markdown",
   "id": "801d1a20",
   "metadata": {},
   "source": [
    "> Data types are all numeric Now ! Next we need to deal with missing values for the feature columns "
   ]
  },
  {
   "cell_type": "markdown",
   "id": "0524721b",
   "metadata": {
    "scrolled": true
   },
   "source": [
    "#To-Do list all the columns that contain missing values along with their counts "
   ]
  },
  {
   "cell_type": "code",
   "execution_count": 38,
   "id": "775f0b44",
   "metadata": {},
   "outputs": [],
   "source": [
    "# To-Do Start providing solutions for each column that has missing data \n",
    "# Treat each case seperately \n",
    "# Hint : no data row should be deleted \n",
    "# Provide evidence that you filled those missing values after each step "
   ]
  },
  {
   "cell_type": "code",
   "execution_count": 39,
   "id": "5728e7d7",
   "metadata": {},
   "outputs": [
    {
     "name": "stdout",
     "output_type": "stream",
     "text": [
      "ALB column contains 1 missing value\n",
      "ALP column contains 18 missing value\n",
      "ALT column contains 1 missing value\n",
      "CHOL column contains 10 missing value\n",
      "PROT column contains 1 missing value\n"
     ]
    }
   ],
   "source": [
    "#listing all the  columns that contain missing values along with their counts\n",
    "for i in data.columns :\n",
    "    if data[i].isna().any() :\n",
    "        print(i,\"column contains %d missing value\"%data[i].isnull().sum())"
   ]
  },
  {
   "cell_type": "code",
   "execution_count": 40,
   "id": "e527c894",
   "metadata": {},
   "outputs": [],
   "source": [
    "#treating cases : \n",
    "# function to get rows that are close in values with the missing value we want to fill than return the average of their \n",
    "# values(for the missing variable)\n",
    "def getnearest(row,column_name,step) :\n",
    "    value = 0 \n",
    "    ran = 0 \n",
    "    while(value==0):\n",
    "        ran+=step\n",
    "        array_of_simlair_rows = list()\n",
    "        mean = 0 \n",
    "        d = data.drop(columns=column_name , inplace = False)\n",
    "        d.dropna(inplace=True,axis=0)\n",
    "        target_row = data.drop(columns=column_name,inplace = False).iloc[row]\n",
    "        for i in range(d.shape[0]):\n",
    "            if (d.iloc[i] <= target_row.fillna(data.max().max())+ran).all() and (d.iloc[i] >= target_row.fillna(data.min().min())-ran).all() and i!= row :\n",
    "                array_of_simlair_rows.append(i) \n",
    "        for i in array_of_simlair_rows:\n",
    "            value += data.iloc[i][column_name]\n",
    "        value = ( value / len(array_of_simlair_rows)) if len(array_of_simlair_rows)!=0 else 0 \n",
    "    return value "
   ]
  },
  {
   "cell_type": "code",
   "execution_count": 41,
   "id": "8c993d98",
   "metadata": {},
   "outputs": [
    {
     "data": {
      "text/plain": [
       "[['CHOL', 121],\n",
       " ['CHOL', 319],\n",
       " ['CHOL', 329],\n",
       " ['CHOL', 413],\n",
       " ['CHOL', 424],\n",
       " ['CHOL', 433],\n",
       " ['CHOL', 498],\n",
       " ['ALT', 540],\n",
       " ['ALP', 541],\n",
       " ['ALP', 545],\n",
       " ['ALP', 546],\n",
       " ['ALP', 568],\n",
       " ['ALP', 569],\n",
       " ['ALP', 570],\n",
       " ['ALP', 571],\n",
       " ['ALP', 576],\n",
       " ['ALP', 581],\n",
       " ['ALP', 582],\n",
       " ['ALP', 583],\n",
       " ['ALP', 584],\n",
       " ['CHOL', 584],\n",
       " ['ALP', 585],\n",
       " ['ALP', 590],\n",
       " ['CHOL', 590],\n",
       " ['PROT', 590],\n",
       " ['ALP', 592],\n",
       " ['ALB', 603],\n",
       " ['ALP', 603],\n",
       " ['CHOL', 603],\n",
       " ['ALP', 613],\n",
       " ['ALP', 614]]"
      ]
     },
     "execution_count": 41,
     "metadata": {},
     "output_type": "execute_result"
    }
   ],
   "source": [
    "#geting missing r&c whith nans\n",
    "import math\n",
    "col_row_nan = list()\n",
    "for i, r in data.iterrows():\n",
    "    is_nan_series = r.isnull()\n",
    "    if is_nan_series.any():\n",
    "        for c in data.columns : \n",
    "            if math.isnan(data[c][i]) : \n",
    "                col_row_nan.append([c,i])\n",
    "col_row_nan"
   ]
  },
  {
   "cell_type": "code",
   "execution_count": 42,
   "id": "5a3e9e2a",
   "metadata": {},
   "outputs": [],
   "source": [
    "for col , row in col_row_nan :  \n",
    "    data[col].fillna(getnearest(row,col,5) , inplace = True ) "
   ]
  },
  {
   "cell_type": "markdown",
   "id": "9dbb1158",
   "metadata": {},
   "source": [
    "> We have no more missing data\n",
    "As an optional thing we can also rename the first column as 'index' or \"ID\" instead of Unnamed "
   ]
  },
  {
   "cell_type": "code",
   "execution_count": 43,
   "id": "bd552319",
   "metadata": {},
   "outputs": [
    {
     "data": {
      "text/plain": [
       "Index(['Unnamed: 0', 'Category', 'Age', 'Sex', 'ALB', 'ALP', 'ALT', 'AST',\n",
       "       'BIL', 'CHE', 'CHOL', 'CREA', 'GGT', 'PROT'],\n",
       "      dtype='object')"
      ]
     },
     "execution_count": 43,
     "metadata": {},
     "output_type": "execute_result"
    }
   ],
   "source": [
    "data.columns"
   ]
  },
  {
   "cell_type": "code",
   "execution_count": 44,
   "id": "255cb6a7",
   "metadata": {},
   "outputs": [],
   "source": [
    "data.rename(columns={'Unnamed: 0': \"ID\"}, inplace=True)"
   ]
  },
  {
   "cell_type": "code",
   "execution_count": 45,
   "id": "f63998c3",
   "metadata": {},
   "outputs": [
    {
     "data": {
      "text/plain": [
       "Index(['ID', 'Category', 'Age', 'Sex', 'ALB', 'ALP', 'ALT', 'AST', 'BIL',\n",
       "       'CHE', 'CHOL', 'CREA', 'GGT', 'PROT'],\n",
       "      dtype='object')"
      ]
     },
     "execution_count": 45,
     "metadata": {},
     "output_type": "execute_result"
    }
   ],
   "source": [
    "data.columns"
   ]
  },
  {
   "cell_type": "markdown",
   "id": "380f2464",
   "metadata": {},
   "source": [
    "### 6. Save the clean dataset :"
   ]
  },
  {
   "cell_type": "code",
   "execution_count": 46,
   "id": "5b7d623f",
   "metadata": {},
   "outputs": [],
   "source": [
    "# Don't forget to drop the index \n",
    "data.to_csv('clean_HepatitisC.csv', index=False)"
   ]
  }
 ],
 "metadata": {
  "kernelspec": {
   "display_name": "Python 3 (ipykernel)",
   "language": "python",
   "name": "python3"
  },
  "language_info": {
   "codemirror_mode": {
    "name": "ipython",
    "version": 3
   },
   "file_extension": ".py",
   "mimetype": "text/x-python",
   "name": "python",
   "nbconvert_exporter": "python",
   "pygments_lexer": "ipython3",
   "version": "3.9.12"
  }
 },
 "nbformat": 4,
 "nbformat_minor": 5
}
